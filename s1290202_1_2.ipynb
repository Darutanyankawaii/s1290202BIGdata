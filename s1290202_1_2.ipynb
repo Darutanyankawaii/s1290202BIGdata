{
  "nbformat": 4,
  "nbformat_minor": 0,
  "metadata": {
    "colab": {
      "provenance": []
    },
    "kernelspec": {
      "name": "python3",
      "display_name": "Python 3"
    },
    "language_info": {
      "name": "python"
    }
  },
  "cells": [
    {
      "cell_type": "markdown",
      "source": [
        "# 1.Putting Headings\n",
        "## Select Markdown option instead of code and execute the cell."
      ],
      "metadata": {
        "id": "wvXiHe-52aRX"
      }
    },
    {
      "cell_type": "code",
      "source": [
        "# Heading level 1\n",
        "## Heading level 2\n",
        "### Heading level 3\n",
        "#### Heading level 4\n",
        "##### Heading level 5\n",
        "###### Heading level 6\n",
        "\n",
        "\n",
        "# Write the above lines in a cell, choose the markdown instead of Code in\n",
        "# compile the markdown and print below code. DO NOT WRITE THESE LINES TO"
      ],
      "metadata": {
        "id": "kv3fqLBL2OCt"
      },
      "execution_count": null,
      "outputs": []
    },
    {
      "cell_type": "markdown",
      "source": [
        "# Heading level 1\n",
        "## Heading level 2\n",
        "### Heading level 3\n",
        "#### Heading level 4\n",
        "##### Heading level 5\n",
        "###### Heading level 6"
      ],
      "metadata": {
        "id": "HItvgp-o1Srl"
      }
    },
    {
      "cell_type": "markdown",
      "source": [
        "# 2.Writing Bold letters"
      ],
      "metadata": {
        "id": "wFS7ldOD2Nx0"
      }
    },
    {
      "cell_type": "code",
      "source": [
        "# __two underscores before and after the text__"
      ],
      "metadata": {
        "id": "l63bhdOu3pYr"
      },
      "execution_count": null,
      "outputs": []
    },
    {
      "cell_type": "markdown",
      "source": [
        "__two underscores before and after the text__"
      ],
      "metadata": {
        "id": "OL1aZHiE1d32"
      }
    },
    {
      "cell_type": "markdown",
      "source": [
        "# 3. Writing italic letters"
      ],
      "metadata": {
        "id": "8muY70Qi3fjl"
      }
    },
    {
      "cell_type": "code",
      "source": [
        "# _single underscore before and after the text_"
      ],
      "metadata": {
        "id": "q1SkbRru3u8a"
      },
      "execution_count": null,
      "outputs": []
    },
    {
      "cell_type": "markdown",
      "source": [
        "_single underscore before and after the text_"
      ],
      "metadata": {
        "id": "7cl43vXs1rnC"
      }
    },
    {
      "cell_type": "markdown",
      "source": [
        "# 4. Dotted Points"
      ],
      "metadata": {
        "id": "5cJWxem-111M"
      }
    },
    {
      "cell_type": "code",
      "source": [
        "# - Dash before text\n",
        "# - will print the text\n",
        "# - with numbered point"
      ],
      "metadata": {
        "id": "9uK5xXjq33kW"
      },
      "execution_count": null,
      "outputs": []
    },
    {
      "cell_type": "markdown",
      "source": [
        "- Dash before text\n",
        "- will print the text\n",
        "- with numbered point"
      ],
      "metadata": {
        "id": "MInHmLIe1vUx"
      }
    },
    {
      "cell_type": "markdown",
      "source": [
        "1. sample\n",
        "2. text\n",
        "3. test"
      ],
      "metadata": {
        "id": "zMJ5nUog1y5n"
      }
    },
    {
      "cell_type": "markdown",
      "source": [
        "# 6. Creating Tables:"
      ],
      "metadata": {
        "id": "P8xoBIkK4C42"
      }
    },
    {
      "cell_type": "code",
      "source": [
        "#| Heading 1 | Heading 2 |\n",
        "#| --------- | --------- |\n",
        "#| 1         | xx        |\n",
        "#| 2         | yy        |"
      ],
      "metadata": {
        "id": "4HkV9jVj4Du5"
      },
      "execution_count": null,
      "outputs": []
    },
    {
      "cell_type": "markdown",
      "source": [
        "| Heading 1 | Heading 2 |\n",
        "| --------- | --------- |\n",
        "| 1         | xx        |\n",
        "| 2         | yy        |"
      ],
      "metadata": {
        "id": "q_uXkIJB13Oi"
      }
    },
    {
      "cell_type": "markdown",
      "source": [
        "# 7.Images:"
      ],
      "metadata": {
        "id": "wxcge2nx4Qvq"
      }
    },
    {
      "cell_type": "code",
      "source": [
        "# ![Apple](/content/s1290202BIGdata/apple_image.jpg)"
      ],
      "metadata": {
        "id": "pHm4BPV14UaD"
      },
      "execution_count": 26,
      "outputs": []
    },
    {
      "cell_type": "markdown",
      "source": [
        "![Apple](/content/s1290202BIGdata/apple_image.jpg)"
      ],
      "metadata": {
        "id": "VLB6_iBE4XSJ"
      }
    },
    {
      "cell_type": "markdown",
      "source": [
        "# 8.Underscore text"
      ],
      "metadata": {
        "id": "7JMrD62s6r0m"
      }
    },
    {
      "cell_type": "code",
      "source": [
        "# <u>Underscore text </u>"
      ],
      "metadata": {
        "id": "VNRcyowZ6vaZ"
      },
      "execution_count": null,
      "outputs": []
    },
    {
      "cell_type": "markdown",
      "source": [
        "# <u>Underscore text </u>"
      ],
      "metadata": {
        "id": "mPf01SYx6xgq"
      }
    },
    {
      "cell_type": "markdown",
      "source": [
        "# 9. Horizontal line"
      ],
      "metadata": {
        "id": "MD7iABnG6zWh"
      }
    },
    {
      "cell_type": "code",
      "source": [
        "# ***"
      ],
      "metadata": {
        "id": "CcStFitj6211"
      },
      "execution_count": null,
      "outputs": []
    },
    {
      "cell_type": "markdown",
      "source": [
        "# ***"
      ],
      "metadata": {
        "id": "5-nw2tg_66Hw"
      }
    },
    {
      "cell_type": "markdown",
      "source": [
        "# Topic 2 : Basic Python Programming"
      ],
      "metadata": {
        "id": "tfk_4Ixq67V1"
      }
    },
    {
      "cell_type": "markdown",
      "source": [
        "## Step 1: print \"Hello World\""
      ],
      "metadata": {
        "id": "-3yzvTLl8ReS"
      }
    },
    {
      "cell_type": "code",
      "source": [
        "print(\"Hello World\")"
      ],
      "metadata": {
        "colab": {
          "base_uri": "https://localhost:8080/"
        },
        "id": "jZTSpTan8Uou",
        "outputId": "0c3177a6-8c34-49dd-8351-08fba344550b"
      },
      "execution_count": 37,
      "outputs": [
        {
          "output_type": "stream",
          "name": "stdout",
          "text": [
            "Hello World\n"
          ]
        }
      ]
    },
    {
      "cell_type": "markdown",
      "source": [
        "## Step 2: Create a Numeric Variable"
      ],
      "metadata": {
        "id": "9x2z-KKa8W6t"
      }
    },
    {
      "cell_type": "code",
      "source": [
        "a = 10"
      ],
      "metadata": {
        "id": "-TKnX0Ii8Z3Q"
      },
      "execution_count": 35,
      "outputs": []
    },
    {
      "cell_type": "markdown",
      "source": [
        "## Step 3: Print above created variable"
      ],
      "metadata": {
        "id": "q5GTwk7D8cit"
      }
    },
    {
      "cell_type": "code",
      "source": [
        "print(a)"
      ],
      "metadata": {
        "colab": {
          "base_uri": "https://localhost:8080/"
        },
        "id": "vbifNkxh8cPV",
        "outputId": "c1da912c-26f3-4039-afe7-bcfa9cac4657"
      },
      "execution_count": 36,
      "outputs": [
        {
          "output_type": "stream",
          "name": "stdout",
          "text": [
            "10\n"
          ]
        }
      ]
    },
    {
      "cell_type": "markdown",
      "source": [
        "## Step 4: Print the type of above variable"
      ],
      "metadata": {
        "id": "Wg7BURs58hm1"
      }
    },
    {
      "cell_type": "code",
      "source": [
        "print(type(a))"
      ],
      "metadata": {
        "colab": {
          "base_uri": "https://localhost:8080/"
        },
        "id": "NfQHZNFY8nPF",
        "outputId": "a9753e35-4ee9-4832-a353-e672677f0a6c"
      },
      "execution_count": 38,
      "outputs": [
        {
          "output_type": "stream",
          "name": "stdout",
          "text": [
            "<class 'int'>\n"
          ]
        }
      ]
    },
    {
      "cell_type": "markdown",
      "source": [
        "## Step 5: Create a String Variable & Print"
      ],
      "metadata": {
        "id": "vEDPvL138pl0"
      }
    },
    {
      "cell_type": "code",
      "source": [
        "string = \"Hello\""
      ],
      "metadata": {
        "id": "9iOQgnAh8saF"
      },
      "execution_count": 39,
      "outputs": []
    },
    {
      "cell_type": "markdown",
      "source": [
        "## Step 5.1: Access 2nd element in above string"
      ],
      "metadata": {
        "id": "-v2YA1Xa8u91"
      }
    },
    {
      "cell_type": "code",
      "source": [
        "print(string[1])"
      ],
      "metadata": {
        "colab": {
          "base_uri": "https://localhost:8080/"
        },
        "id": "KiC3052q8vWl",
        "outputId": "b221c929-6379-4922-f6cc-895dc12a009e"
      },
      "execution_count": 40,
      "outputs": [
        {
          "output_type": "stream",
          "name": "stdout",
          "text": [
            "e\n"
          ]
        }
      ]
    },
    {
      "cell_type": "markdown",
      "source": [
        "## Step 5.2: Find the length of above string"
      ],
      "metadata": {
        "id": "yZWSOKou803a"
      }
    },
    {
      "cell_type": "code",
      "source": [
        "print(len(string))"
      ],
      "metadata": {
        "colab": {
          "base_uri": "https://localhost:8080/"
        },
        "id": "LOUm-PmE83ql",
        "outputId": "75ab6731-16a0-4806-ea86-278163adc423"
      },
      "execution_count": 41,
      "outputs": [
        {
          "output_type": "stream",
          "name": "stdout",
          "text": [
            "5\n"
          ]
        }
      ]
    },
    {
      "cell_type": "markdown",
      "source": [
        "## Step 5.3: Create another String and compare the strings."
      ],
      "metadata": {
        "id": "BpHBjzPj86In"
      }
    },
    {
      "cell_type": "code",
      "source": [
        "string2 = \"World\"\n",
        "if string == string2:\n",
        "  print(\"Both Strings are same.\")\n",
        "else:\n",
        "  print(\"Both Strings are not same.\")"
      ],
      "metadata": {
        "colab": {
          "base_uri": "https://localhost:8080/"
        },
        "id": "08QNRx3x8_GE",
        "outputId": "54d42ef4-a91d-49e0-e4f9-e12dec05d897"
      },
      "execution_count": 42,
      "outputs": [
        {
          "output_type": "stream",
          "name": "stdout",
          "text": [
            "Both Strings are not same.\n"
          ]
        }
      ]
    },
    {
      "cell_type": "markdown",
      "source": [
        "## Step 6: Create a list"
      ],
      "metadata": {
        "id": "SbCXDGKz9K4v"
      }
    },
    {
      "cell_type": "code",
      "source": [
        "sampleList = [3, 5, 6, 18, 10]"
      ],
      "metadata": {
        "id": "31Mby_dd9Mf5"
      },
      "execution_count": 44,
      "outputs": []
    },
    {
      "cell_type": "markdown",
      "source": [
        "## Step 6.1: Find the length of above list."
      ],
      "metadata": {
        "id": "wiHhYSK39QKw"
      }
    },
    {
      "cell_type": "code",
      "source": [
        "print(len(sampleList))"
      ],
      "metadata": {
        "colab": {
          "base_uri": "https://localhost:8080/"
        },
        "id": "g0zNdX-19SUD",
        "outputId": "73ba61f5-4e60-4dec-f4a7-20c581daa5bb"
      },
      "execution_count": 45,
      "outputs": [
        {
          "output_type": "stream",
          "name": "stdout",
          "text": [
            "5\n"
          ]
        }
      ]
    },
    {
      "cell_type": "markdown",
      "source": [
        "## Step 6.2: Iterate above list using for loop."
      ],
      "metadata": {
        "id": "WOTmvbSL9WOD"
      }
    },
    {
      "cell_type": "code",
      "source": [
        "for i in sampleList:\n",
        "  print(i)"
      ],
      "metadata": {
        "colab": {
          "base_uri": "https://localhost:8080/"
        },
        "id": "3GxDHzst9YMD",
        "outputId": "9f742e7a-bebe-4efd-addd-38881059cb90"
      },
      "execution_count": 46,
      "outputs": [
        {
          "output_type": "stream",
          "name": "stdout",
          "text": [
            "3\n",
            "5\n",
            "6\n",
            "18\n",
            "10\n"
          ]
        }
      ]
    },
    {
      "cell_type": "markdown",
      "source": [
        "## Step 6.3: Add another element in to above list"
      ],
      "metadata": {
        "id": "aMyqY9WG9cWT"
      }
    },
    {
      "cell_type": "code",
      "source": [
        "sampleList.append(22)"
      ],
      "metadata": {
        "id": "_itCc0wk9elr"
      },
      "execution_count": 47,
      "outputs": []
    },
    {
      "cell_type": "markdown",
      "source": [
        "## Step 6.4: Remove one element from above list"
      ],
      "metadata": {
        "id": "mr4Nt0PZ9ig-"
      }
    },
    {
      "cell_type": "code",
      "source": [
        "sampleList.remove(3)"
      ],
      "metadata": {
        "id": "Wn6VFQr39qPz"
      },
      "execution_count": 49,
      "outputs": []
    },
    {
      "cell_type": "markdown",
      "source": [
        "## Step6.5:Find the minimum and maximum numbers exists in above list."
      ],
      "metadata": {
        "id": "IMOY7WxH9nth"
      }
    },
    {
      "cell_type": "code",
      "source": [
        "print(min(sampleList))\n",
        "print(max(sampleList))"
      ],
      "metadata": {
        "colab": {
          "base_uri": "https://localhost:8080/"
        },
        "id": "a7te7BXZ99Cq",
        "outputId": "55d6fff8-314e-4e2b-ec22-3636fa7e2ef0"
      },
      "execution_count": 50,
      "outputs": [
        {
          "output_type": "stream",
          "name": "stdout",
          "text": [
            "5\n",
            "22\n"
          ]
        }
      ]
    },
    {
      "cell_type": "markdown",
      "source": [
        "## Step 7: Getting input as a string from User"
      ],
      "metadata": {
        "id": "yz9jcmRn-IR4"
      }
    },
    {
      "cell_type": "code",
      "source": [
        "name = input(\"Enter your name:\")"
      ],
      "metadata": {
        "colab": {
          "base_uri": "https://localhost:8080/"
        },
        "id": "z6cLLTe3-Jfx",
        "outputId": "113fb1b8-a3b7-4bd9-dde3-02d9c041b860"
      },
      "execution_count": 53,
      "outputs": [
        {
          "name": "stdout",
          "output_type": "stream",
          "text": [
            "Enter your name:TAYAMA\n"
          ]
        }
      ]
    },
    {
      "cell_type": "markdown",
      "source": [
        "## Step 8: Displaying output: string"
      ],
      "metadata": {
        "id": "Gyyl0-ec-LRr"
      }
    },
    {
      "cell_type": "code",
      "source": [
        "print(\"Hello \" + name + \" ! \")"
      ],
      "metadata": {
        "colab": {
          "base_uri": "https://localhost:8080/"
        },
        "id": "u8SKrhmg-Ojd",
        "outputId": "33a2e7d2-c01c-4c96-b65b-c77f315bb634"
      },
      "execution_count": 54,
      "outputs": [
        {
          "output_type": "stream",
          "name": "stdout",
          "text": [
            "Hello TAYAMA ! \n"
          ]
        }
      ]
    },
    {
      "cell_type": "markdown",
      "source": [
        "## Step 9: Getting input as a int from User"
      ],
      "metadata": {
        "id": "tfxK3lOw-fIY"
      }
    },
    {
      "cell_type": "code",
      "source": [
        "num = int(input(\"Enter a number: \"))"
      ],
      "metadata": {
        "colab": {
          "base_uri": "https://localhost:8080/"
        },
        "id": "X6pS3G0R-hxK",
        "outputId": "75a878f9-0544-4eb5-8f06-2418c5781c8b"
      },
      "execution_count": 55,
      "outputs": [
        {
          "name": "stdout",
          "output_type": "stream",
          "text": [
            "Enter a number: 222\n"
          ]
        }
      ]
    },
    {
      "cell_type": "markdown",
      "source": [
        "## Step 10: Dispay the input"
      ],
      "metadata": {
        "id": "UW90k59j-meK"
      }
    },
    {
      "cell_type": "code",
      "source": [
        "print(num)"
      ],
      "metadata": {
        "colab": {
          "base_uri": "https://localhost:8080/"
        },
        "id": "y6m1lypj-pHs",
        "outputId": "d41a0d4d-d86e-42a1-b203-55e6f65223a3"
      },
      "execution_count": 56,
      "outputs": [
        {
          "output_type": "stream",
          "name": "stdout",
          "text": [
            "222\n"
          ]
        }
      ]
    },
    {
      "cell_type": "markdown",
      "source": [
        "## Step 11: Different ways to print int and string"
      ],
      "metadata": {
        "id": "JO1CfTHG-ux7"
      }
    },
    {
      "cell_type": "code",
      "source": [
        "a = 20\n",
        "b = 10\n",
        "sum = a + b\n",
        "# Several ways to print\n",
        "print(\"The total sum of values a and b is: {}\".format(sum))\n",
        "print(\"The total sum of values a and b is: %d\" %sum)\n",
        "print(\"The total sum of values a and b is:\", sum)"
      ],
      "metadata": {
        "colab": {
          "base_uri": "https://localhost:8080/"
        },
        "id": "2yvPgWke-wzF",
        "outputId": "7662c1d2-ef9e-478e-bd20-f1ed8caca6f2"
      },
      "execution_count": 57,
      "outputs": [
        {
          "output_type": "stream",
          "name": "stdout",
          "text": [
            "The total sum of values a and b is: 30\n",
            "The total sum of values a and b is: 30\n",
            "The total sum of values a and b is: 30\n"
          ]
        }
      ]
    },
    {
      "cell_type": "markdown",
      "source": [
        "## Step 12: Getting multiple inputs from the user:"
      ],
      "metadata": {
        "id": "WKxDLgQx-z86"
      }
    },
    {
      "cell_type": "code",
      "source": [
        "a, b, c = input(\"Enter any three values: \").split()\n",
        "print(\"First number: \", a)\n",
        "print(\"Second number: \", b)\n",
        "print(\"Third number: \", c)"
      ],
      "metadata": {
        "colab": {
          "base_uri": "https://localhost:8080/"
        },
        "id": "jSu6AUQ_-2B-",
        "outputId": "bc8b84da-0796-4c07-8928-11cda4712405"
      },
      "execution_count": 60,
      "outputs": [
        {
          "output_type": "stream",
          "name": "stdout",
          "text": [
            "Enter any three values: 1 2 3\n",
            "First number:  1\n",
            "Second number:  2\n",
            "Third number:  3\n"
          ]
        }
      ]
    },
    {
      "cell_type": "markdown",
      "source": [
        "## Step 13: Define a function using \"def\""
      ],
      "metadata": {
        "id": "3rIx_3Wz-4Nl"
      }
    },
    {
      "cell_type": "code",
      "source": [
        "def HelloWorld():\n",
        "  print(\"Hello World\")"
      ],
      "metadata": {
        "id": "WeX1SJks_GQh"
      },
      "execution_count": 62,
      "outputs": []
    },
    {
      "cell_type": "markdown",
      "source": [
        "## Step 14: Call the above function"
      ],
      "metadata": {
        "id": "_PLyKz3-_OGY"
      }
    },
    {
      "cell_type": "code",
      "source": [
        "HelloWorld()"
      ],
      "metadata": {
        "colab": {
          "base_uri": "https://localhost:8080/"
        },
        "id": "g5bhEAG3_QIz",
        "outputId": "802bc90c-ef63-4ba5-ad5e-2d53b91a4571"
      },
      "execution_count": 63,
      "outputs": [
        {
          "output_type": "stream",
          "name": "stdout",
          "text": [
            "Hello World\n"
          ]
        }
      ]
    },
    {
      "cell_type": "markdown",
      "source": [
        "# Topic 3 : Advanced Python Programming"
      ],
      "metadata": {
        "id": "rZ0UgysV_UCS"
      }
    },
    {
      "cell_type": "markdown",
      "source": [
        "## 1. pip install Command:"
      ],
      "metadata": {
        "id": "KtHFzl-r_Wp3"
      }
    },
    {
      "cell_type": "code",
      "source": [
        "## Syntax: !pip install package-name\n",
        "Example: !pip install pami"
      ],
      "metadata": {
        "id": "AskhzFIS_ZTn"
      },
      "execution_count": null,
      "outputs": []
    },
    {
      "cell_type": "markdown",
      "source": [
        "## 2. Reading and Processing . CSV file:"
      ],
      "metadata": {
        "id": "r6b7vGoT_bIv"
      }
    },
    {
      "cell_type": "code",
      "source": [
        "# Reading a .csv file\n",
        "import csv\n",
        "file = open('fileName.csv')\n",
        "csvreader = csv.reader(file)\n",
        "\n",
        "# Printing Column names in csv file\n",
        "header = next(csvreader)\n",
        "print(header)"
      ],
      "metadata": {
        "id": "3G1vhOv8_dPX"
      },
      "execution_count": null,
      "outputs": []
    },
    {
      "cell_type": "markdown",
      "source": [
        "## 3. Reading CSV with pandas:"
      ],
      "metadata": {
        "id": "4phdi-P3_sZq"
      }
    },
    {
      "cell_type": "code",
      "source": [
        "# Reading csv file into a dataframe\n",
        "import pandas as pd\n",
        "df = pd.read_csv('inputFileName.csv')\n",
        "# If you get error to open the file using the above code give absolute pa\n",
        "# df = pd.read_csv('Exercise_1/inputFileName.csv')\n",
        "# You can get absolute path by right click -> copy path.\n",
        "# Printing the first rows of dataframe\n",
        "print(df.head())\n",
        "# Printing the column names\n",
        "print(df.columns)\n",
        "# Dropping columns from dataframe\n",
        "print(df.drop('stationId', axis=1))\n",
        "\\# Printing number of rows and columns in dataframe\n",
        "print(df.shape)"
      ],
      "metadata": {
        "id": "f71om3Sb_w6u"
      },
      "execution_count": null,
      "outputs": []
    },
    {
      "cell_type": "markdown",
      "source": [
        "## 4. How to add code description?"
      ],
      "metadata": {
        "id": "zqt3vwDP_4OK"
      }
    },
    {
      "cell_type": "code",
      "source": [
        "# Add the description about the code using comments.\n",
        "def hello_world():\n",
        "# A simple comment preceding a simple print statement\n",
        "print(\"Hello World\")"
      ],
      "metadata": {
        "id": "3k5W4exu_3xC"
      },
      "execution_count": null,
      "outputs": []
    }
  ]
}